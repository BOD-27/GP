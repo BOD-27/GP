{
  "nbformat": 4,
  "nbformat_minor": 0,
  "metadata": {
    "colab": {
      "provenance": [],
      "authorship_tag": "ABX9TyN9S/rhJ64atyULXHf8lBri",
      "include_colab_link": true
    },
    "kernelspec": {
      "name": "python3",
      "display_name": "Python 3"
    },
    "language_info": {
      "name": "python"
    }
  },
  "cells": [
    {
      "cell_type": "markdown",
      "metadata": {
        "id": "view-in-github",
        "colab_type": "text"
      },
      "source": [
        "<a href=\"https://colab.research.google.com/github/BOD-27/GP/blob/main/TestZ.ipynb\" target=\"_parent\"><img src=\"https://colab.research.google.com/assets/colab-badge.svg\" alt=\"Open In Colab\"/></a>"
      ]
    },
    {
      "cell_type": "code",
      "source": [
        "\n",
        "def import_libraries():\n",
        "    global os, OrderedDict, TestOptions, CreateDataLoader, create_model, util, Visualizer, files\n",
        "    import os\n",
        "    from collections import OrderedDict\n",
        "    from options.test_options import TestOptions\n",
        "    from data.data_loader import CreateDataLoader\n",
        "    from models.models import create_model\n",
        "    import util.util as util\n",
        "    from util.visualizer import Visualizer\n",
        "    from google.colab import files"
      ],
      "metadata": {
        "id": "nehhovFS08gV"
      },
      "execution_count": null,
      "outputs": []
    },
    {
      "cell_type": "code",
      "source": [
        "\n",
        "\n",
        "def mount_drive():\n",
        "    from google.colab import drive\n",
        "    drive.mount('/content/drive')"
      ],
      "metadata": {
        "id": "4F66LcAa0-kl"
      },
      "execution_count": null,
      "outputs": []
    },
    {
      "cell_type": "code",
      "source": [
        "def clone_repo_and_install_deps():\n",
        "    !git clone https://github.com/royorel/Lifespan_Age_Transformation_Synthesis\n",
        "    %cd Lifespan_Age_Transformation_Synthesis/\n",
        "    !pip3 install -r requirements.txt"
      ],
      "metadata": {
        "id": "otWsUC-x0-iT"
      },
      "execution_count": null,
      "outputs": []
    },
    {
      "cell_type": "code",
      "source": [
        "def download_models():\n",
        "    !python download_models.py"
      ],
      "metadata": {
        "id": "u3JDZxp10-gP"
      },
      "execution_count": null,
      "outputs": []
    },
    {
      "cell_type": "code",
      "source": [
        "def set_options():\n",
        "    opt = TestOptions().parse(save=False)\n",
        "    opt.display_id = 0\n",
        "    opt.nThreads = 1\n",
        "    opt.batchSize = 1\n",
        "    opt.serial_batches = True\n",
        "    opt.no_flip = True\n",
        "    opt.in_the_wild = True\n",
        "    opt.traverse = False\n",
        "    opt.interp_step = 0.05\n",
        "    opt.deploy = True\n",
        "    return opt"
      ],
      "metadata": {
        "id": "Kcp41Qo-0-d9"
      },
      "execution_count": null,
      "outputs": []
    },
    {
      "cell_type": "code",
      "source": [
        "def load_data_visualizer(opt):\n",
        "    data_loader = CreateDataLoader(opt)\n",
        "    dataset = data_loader.load_data()\n",
        "    visualizer = Visualizer(opt)\n",
        "    return dataset, visualizer"
      ],
      "metadata": {
        "id": "B8Xk59av0-be"
      },
      "execution_count": null,
      "outputs": []
    },
    {
      "cell_type": "code",
      "source": [
        "def load_model(model_name, opt):\n",
        "    opt.name = model_name\n",
        "    model = create_model(opt)\n",
        "    model.eval()\n",
        "    return model"
      ],
      "metadata": {
        "id": "MLh-Jcqt0-ZX"
      },
      "execution_count": null,
      "outputs": []
    },
    {
      "cell_type": "code",
      "source": [
        "def switch_model_gender(gender, opt):\n",
        "    if gender.lower() == 'male':\n",
        "        return load_model('males_model', opt)\n",
        "    elif gender.lower() == 'female':\n",
        "        return load_model('females_model', opt)\n",
        "    else:\n",
        "        raise ValueError(\"Invalid gender provided. Please provide either 'male' or 'female'.\")"
      ],
      "metadata": {
        "id": "G86eXo061Giq"
      },
      "execution_count": null,
      "outputs": []
    },
    {
      "cell_type": "code",
      "source": [
        "def upload_image():\n",
        "    uploaded = files.upload()\n",
        "    for filename in uploaded.keys():\n",
        "        img_path = filename\n",
        "        print('User uploaded file \"{name}\"'.format(name=filename))\n",
        "    return img_path"
      ],
      "metadata": {
        "id": "NlsGH8SS1Ggf"
      },
      "execution_count": null,
      "outputs": []
    },
    {
      "cell_type": "code",
      "source": [
        "def process_image_and_save_result(img_path, dataset, model, visualizer):\n",
        "    base_drive_path = '/content/drive/My Drive/Lifespane'\n",
        "    os.makedirs(base_drive_path, exist_ok=True)\n",
        "    image_folder_name = os.path.splitext(os.path.basename(img_path))[0]\n",
        "    image_folder_path = os.path.join(base_drive_path, image_folder_name)\n",
        "    os.makedirs(image_folder_path, exist_ok=True)\n",
        "\n",
        "    # Debugging information\n",
        "    print(f\"Processing image: {img_path}\")\n",
        "    print(f\"Image folder path: {image_folder_path}\")\n",
        "\n",
        "    data = dataset.dataset.get_item_from_path(img_path)\n",
        "    visuals = model.inference(data)\n",
        "\n",
        "    out_path = os.path.join(image_folder_path, os.path.splitext(os.path.basename(img_path))[0].replace(' ', '_') + '.png')\n",
        "\n",
        "    # Save images using the correct path\n",
        "    visualizer.save_images_deploy(visuals, image_folder_path)\n",
        "\n",
        "    # Verify if the image is saved correctly\n",
        "    if os.path.exists(out_path):\n",
        "        print(f\"Image saved successfully at: {out_path}\")\n",
        "    else:\n",
        "        print(f\"Failed to save image at: {out_path}\")\n",
        "\n",
        "    return image_folder_path"
      ],
      "metadata": {
        "id": "JicB98qF1Gea"
      },
      "execution_count": null,
      "outputs": []
    }
  ]
}